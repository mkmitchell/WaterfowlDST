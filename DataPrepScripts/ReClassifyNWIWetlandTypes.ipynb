{
 "cells": [
  {
   "cell_type": "code",
   "execution_count": 16,
   "metadata": {},
   "outputs": [],
   "source": [
    "# import modules\n",
    "import arcpy, os\n",
    "from arcpy import env\n",
    "\n",
    "# set variables\n",
    "gdb = r\"C:\\Users\\jskillman\\Ducks Unlimited Incorporated\\GIS Department - ABDU DST and more!\\GIS\\ModelReady\\ModelReady.gdb\"\n",
    "nwi = os.path.join(gdb, \"nwi\")"
   ]
  },
  {
   "cell_type": "code",
   "execution_count": 9,
   "metadata": {},
   "outputs": [
    {
     "data": {
      "text/plain": [
       "<Result 'C:\\\\Users\\\\jskillman\\\\Ducks Unlimited Incorporated\\\\GIS Department - ABDU DST and more!\\\\GIS\\\\ModelReady\\\\ModelReady.gdb\\\\nwi'>"
      ]
     },
     "execution_count": 9,
     "metadata": {},
     "output_type": "execute_result"
    }
   ],
   "source": [
    "# create new attribute called WetlandType\n",
    "arcpy.AddField_management(\n",
    "    in_table = nwi,\n",
    "    field_name = \"wetlandType\",\n",
    "    field_type = \"TEXT\",\n",
    "    field_alias= \"Wetland Type\"\n",
    ")"
   ]
  },
  {
   "cell_type": "code",
   "execution_count": 24,
   "metadata": {},
   "outputs": [],
   "source": []
  },
  {
   "cell_type": "code",
   "execution_count": null,
   "metadata": {},
   "outputs": [],
   "source": []
  },
  {
   "cell_type": "code",
   "execution_count": null,
   "metadata": {},
   "outputs": [],
   "source": [
    "\n",
    "# Populate Wetland Type based on ATTRIBUTEdict\n",
    "\n",
    "attributeDict = {\"Mudflat Salt\": \"\n",
    "                 \"ATTRIBUTE\" LIKE 'M2US3%’ OR \"\n",
    "                 \"ATTRIBUTE\" LIKE 'M2US4%' OR\n",
    "                 \"ATTRIBUTE\" LIKE 'E1UB4%' OR\n",
    "                 \"ATTRIBUTE\" LIKE 'E1UB3%' OR\n",
    "                 \"ATTRIBUTE\" LIKE 'E2SB5%' OR\n",
    "                 \"ATTRIBUTE\" LIKE 'E2SB6%' OR\n",
    "                 \"ATTRIBUTE\" LIKE 'E2US3%' OR\n",
    "                 \"ATTRIBUTE\" LIKE 'E2US4%’ OR\n",
    "                 \"ATTRIBUTE\" LIKE 'M2US3%’ OR\n",
    "                 \"ATTRIBUTE\" LIKE 'M2US4%' OR\n",
    "                 ,\n",
    "                 Mudflat Fresh\n",
    "\"ATTRIBUTE\" LIKE 'R1UB3%’ OR\n",
    "\"ATTRIBUTE\" LIKE 'R1UB4%’ OR\n",
    "\"ATTRIBUTE\" LIKE 'R2UB3%’ OR\n",
    "\"ATTRIBUTE\" LIKE 'R2UB4%’ OR\n",
    "\n",
    "Subtidal Salt\n",
    "\n",
    "\"ATTRIBUTE\" LIKE 'E1AB%' OR\n",
    "\"ATTRIBUTE\" LIKE 'E2AB%’ OR\n",
    "\"ATTRIBUTE\" LIKE 'M2AB3' OR  \n",
    "\"ATTRIBUTE\" LIKE 'R1AB%N%’ OR\n",
    "\"ATTRIBUTE\" LIKE 'M2AB%‘ OR\n",
    "\n",
    "Subtidal Fresh \n",
    "\"ATTRIBUTE\" LIKE 'R2AB%' OR\n",
    "\"ATTRIBUTE\" LIKE 'R1AB%V%' OR\n",
    "\"ATTRIBUTE\" LIKE 'R1AB%Q%’ OR\n",
    "\"ATTRIBUTE\" LIKE 'R1AB%T%’ OR\n",
    "}"
   ]
  }
 ],
 "metadata": {
  "kernelspec": {
   "display_name": "Python 3",
   "language": "python",
   "name": "python3"
  },
  "language_info": {
   "codemirror_mode": {
    "name": "ipython",
    "version": 3
   },
   "file_extension": ".py",
   "mimetype": "text/x-python",
   "name": "python",
   "nbconvert_exporter": "python",
   "pygments_lexer": "ipython3",
   "version": "3.6.8"
  }
 },
 "nbformat": 4,
 "nbformat_minor": 2
}
