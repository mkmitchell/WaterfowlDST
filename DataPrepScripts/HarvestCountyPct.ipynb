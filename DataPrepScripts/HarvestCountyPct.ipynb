{
 "cells": [
  {
   "cell_type": "code",
   "execution_count": 2,
   "metadata": {},
   "outputs": [],
   "source": [
    "import arcpy\n",
    "import pandas as pd\n",
    "from arcgis import GIS\n",
    "gis = GIS()\n",
    "from arcgis.features import GeoAccessor, GeoSeriesAccessor\n",
    "import numpy as np\n"
   ]
  },
  {
   "cell_type": "code",
   "execution_count": 3,
   "metadata": {},
   "outputs": [
    {
     "data": {
      "text/plain": [
       "['SpecCode', 'Year', 'SNo', 'ST', 'countyfips', 'County', 'HDate', 'Harvest', 'Season', 'lumpedAOU', 'statefips', 'fips', 'jvcountyfips']"
      ]
     },
     "execution_count": 3,
     "metadata": {},
     "output_type": "execute_result"
    }
   ],
   "source": [
    "table = pd.read_csv(r'C:\\Users\\jskillman\\Ducks Unlimited Incorporated\\GIS Department - ABDU DST and more!\\GIS\\Original_Data\\correctedDailyharv19992014.csv', dtype={'fips' : str, 'County': str, 'jvcountyfips' : str})\n",
    "list(table)"
   ]
  },
  {
   "cell_type": "code",
   "execution_count": 4,
   "metadata": {},
   "outputs": [
    {
     "data": {
      "text/html": [
       "<div>\n",
       "<style scoped>\n",
       "    .dataframe tbody tr th:only-of-type {\n",
       "        vertical-align: middle;\n",
       "    }\n",
       "\n",
       "    .dataframe tbody tr th {\n",
       "        vertical-align: top;\n",
       "    }\n",
       "\n",
       "    .dataframe thead th {\n",
       "        text-align: right;\n",
       "    }\n",
       "</style>\n",
       "<table border=\"1\" class=\"dataframe\">\n",
       "  <thead>\n",
       "    <tr style=\"text-align: right;\">\n",
       "      <th></th>\n",
       "      <th>SpecCode</th>\n",
       "      <th>Year</th>\n",
       "      <th>SNo</th>\n",
       "      <th>ST</th>\n",
       "      <th>countyfips</th>\n",
       "      <th>County</th>\n",
       "      <th>HDate</th>\n",
       "      <th>Harvest</th>\n",
       "      <th>Season</th>\n",
       "      <th>lumpedAOU</th>\n",
       "      <th>statefips</th>\n",
       "      <th>fips</th>\n",
       "      <th>jvcountyfips</th>\n",
       "    </tr>\n",
       "  </thead>\n",
       "  <tbody>\n",
       "    <tr>\n",
       "      <td>0</td>\n",
       "      <td>ABDU</td>\n",
       "      <td>2013</td>\n",
       "      <td>118.0</td>\n",
       "      <td>CT</td>\n",
       "      <td>11.0</td>\n",
       "      <td>NEW LONDON</td>\n",
       "      <td>11/28/2013 0:00</td>\n",
       "      <td>35.54769</td>\n",
       "      <td>fall</td>\n",
       "      <td>ABDU</td>\n",
       "      <td>9.0</td>\n",
       "      <td>9011</td>\n",
       "      <td>9011</td>\n",
       "    </tr>\n",
       "    <tr>\n",
       "      <td>1</td>\n",
       "      <td>ABDU</td>\n",
       "      <td>2013</td>\n",
       "      <td>118.0</td>\n",
       "      <td>CT</td>\n",
       "      <td>11.0</td>\n",
       "      <td>NEW LONDON</td>\n",
       "      <td>11/29/2013 0:00</td>\n",
       "      <td>35.54769</td>\n",
       "      <td>fall</td>\n",
       "      <td>ABDU</td>\n",
       "      <td>9.0</td>\n",
       "      <td>9011</td>\n",
       "      <td>9011</td>\n",
       "    </tr>\n",
       "    <tr>\n",
       "      <td>2</td>\n",
       "      <td>ABDU</td>\n",
       "      <td>2013</td>\n",
       "      <td>118.0</td>\n",
       "      <td>CT</td>\n",
       "      <td>11.0</td>\n",
       "      <td>NEW LONDON</td>\n",
       "      <td>12/7/2013 0:00</td>\n",
       "      <td>35.54769</td>\n",
       "      <td>winter</td>\n",
       "      <td>ABDU</td>\n",
       "      <td>9.0</td>\n",
       "      <td>9011</td>\n",
       "      <td>9011</td>\n",
       "    </tr>\n",
       "    <tr>\n",
       "      <td>3</td>\n",
       "      <td>ABDU</td>\n",
       "      <td>2013</td>\n",
       "      <td>118.0</td>\n",
       "      <td>CT</td>\n",
       "      <td>11.0</td>\n",
       "      <td>NEW LONDON</td>\n",
       "      <td>12/14/2013 0:00</td>\n",
       "      <td>71.09538</td>\n",
       "      <td>winter</td>\n",
       "      <td>ABDU</td>\n",
       "      <td>9.0</td>\n",
       "      <td>9011</td>\n",
       "      <td>9011</td>\n",
       "    </tr>\n",
       "    <tr>\n",
       "      <td>4</td>\n",
       "      <td>ABDU</td>\n",
       "      <td>2013</td>\n",
       "      <td>118.0</td>\n",
       "      <td>CT</td>\n",
       "      <td>11.0</td>\n",
       "      <td>NEW LONDON</td>\n",
       "      <td>12/20/2013 0:00</td>\n",
       "      <td>35.54769</td>\n",
       "      <td>winter</td>\n",
       "      <td>ABDU</td>\n",
       "      <td>9.0</td>\n",
       "      <td>9011</td>\n",
       "      <td>9011</td>\n",
       "    </tr>\n",
       "  </tbody>\n",
       "</table>\n",
       "</div>"
      ],
      "text/plain": [
       "  SpecCode  Year    SNo  ST  ...  lumpedAOU statefips  fips  jvcountyfips\n",
       "0     ABDU  2013  118.0  CT  ...       ABDU       9.0  9011          9011\n",
       "1     ABDU  2013  118.0  CT  ...       ABDU       9.0  9011          9011\n",
       "2     ABDU  2013  118.0  CT  ...       ABDU       9.0  9011          9011\n",
       "3     ABDU  2013  118.0  CT  ...       ABDU       9.0  9011          9011\n",
       "4     ABDU  2013  118.0  CT  ...       ABDU       9.0  9011          9011\n",
       "\n",
       "[5 rows x 13 columns]"
      ]
     },
     "execution_count": 4,
     "metadata": {},
     "output_type": "execute_result"
    }
   ],
   "source": [
    "table.head()"
   ]
  },
  {
   "cell_type": "code",
   "execution_count": null,
   "metadata": {},
   "outputs": [],
   "source": []
  },
  {
   "cell_type": "code",
   "execution_count": 6,
   "metadata": {},
   "outputs": [
    {
     "data": {
      "text/html": [
       "<div>\n",
       "<style scoped>\n",
       "    .dataframe tbody tr th:only-of-type {\n",
       "        vertical-align: middle;\n",
       "    }\n",
       "\n",
       "    .dataframe tbody tr th {\n",
       "        vertical-align: top;\n",
       "    }\n",
       "\n",
       "    .dataframe thead th {\n",
       "        text-align: right;\n",
       "    }\n",
       "</style>\n",
       "<table border=\"1\" class=\"dataframe\">\n",
       "  <thead>\n",
       "    <tr style=\"text-align: right;\">\n",
       "      <th>Season</th>\n",
       "      <th>fips</th>\n",
       "      <th>fall</th>\n",
       "      <th>winter</th>\n",
       "    </tr>\n",
       "  </thead>\n",
       "  <tbody>\n",
       "    <tr>\n",
       "      <td>0</td>\n",
       "      <td>10001</td>\n",
       "      <td>283350.13763</td>\n",
       "      <td>320559.09840</td>\n",
       "    </tr>\n",
       "    <tr>\n",
       "      <td>1</td>\n",
       "      <td>10003</td>\n",
       "      <td>109272.04632</td>\n",
       "      <td>121255.72658</td>\n",
       "    </tr>\n",
       "    <tr>\n",
       "      <td>2</td>\n",
       "      <td>10005</td>\n",
       "      <td>138176.10530</td>\n",
       "      <td>186396.84537</td>\n",
       "    </tr>\n",
       "    <tr>\n",
       "      <td>3</td>\n",
       "      <td>1001</td>\n",
       "      <td>5736.96080</td>\n",
       "      <td>5966.65100</td>\n",
       "    </tr>\n",
       "    <tr>\n",
       "      <td>4</td>\n",
       "      <td>1003</td>\n",
       "      <td>18757.00440</td>\n",
       "      <td>47923.31015</td>\n",
       "    </tr>\n",
       "  </tbody>\n",
       "</table>\n",
       "</div>"
      ],
      "text/plain": [
       "Season   fips          fall        winter\n",
       "0       10001  283350.13763  320559.09840\n",
       "1       10003  109272.04632  121255.72658\n",
       "2       10005  138176.10530  186396.84537\n",
       "3        1001    5736.96080    5966.65100\n",
       "4        1003   18757.00440   47923.31015"
      ]
     },
     "execution_count": 6,
     "metadata": {},
     "output_type": "execute_result"
    }
   ],
   "source": [
    "table2 = pd.pivot_table(table, \n",
    "                        values='Harvest', # values to manipulate\n",
    "                        index=['fips'], # columns to summarize on\n",
    "                        columns=['Season'], # columns to split on\n",
    "                        aggfunc=np.sum) # function used to manipulate values\n",
    "table2.reset_index(inplace=True)\n",
    "table2.head()\n"
   ]
  },
  {
   "cell_type": "code",
   "execution_count": null,
   "metadata": {},
   "outputs": [],
   "source": [
    "\n",
    "#list(table2)\n"
   ]
  },
  {
   "cell_type": "code",
   "execution_count": 59,
   "metadata": {},
   "outputs": [
    {
     "name": "stdout",
     "output_type": "stream",
     "text": [
      "3452\n"
     ]
    },
    {
     "data": {
      "text/plain": [
       "3452"
      ]
     },
     "execution_count": 59,
     "metadata": {},
     "output_type": "execute_result"
    }
   ],
   "source": [
    "print(len(table2.fips))\n",
    "x = table2.fips.unique()\n",
    "len(x)"
   ]
  },
  {
   "cell_type": "code",
   "execution_count": 30,
   "metadata": {},
   "outputs": [],
   "source": [
    "fc = r'C:\\Users\\jskillman\\Ducks Unlimited Incorporated\\GIS Department - ABDU DST and more!\\GIS\\Figures\\DuckUseDays_and_PopulationObjectives\\MapData_DUD_HabOb.gdb\\CountiesAJV'"
   ]
  },
  {
   "cell_type": "code",
   "execution_count": 31,
   "metadata": {},
   "outputs": [],
   "source": [
    "sdf = pd.DataFrame.spatial.from_featureclass(fc)"
   ]
  },
  {
   "cell_type": "code",
   "execution_count": 82,
   "metadata": {},
   "outputs": [
    {
     "data": {
      "application/vnd.jupyter.widget-view+json": {
       "model_id": "9d703f64262d43cfb1057210de4ebc38",
       "version_major": 2,
       "version_minor": 0
      },
      "text/plain": [
       "MapView(layout=Layout(height='400px', width='100%'))"
      ]
     },
     "metadata": {},
     "output_type": "display_data"
    },
    {
     "data": {
      "text/html": [
       "<div class=\"map-static-img-preview-3c3d6bdd-f06b-494f-8a1a-f5011265c0b8\"><img src=\"\"></img></div>"
      ],
      "text/plain": [
       "<display.HTML object>"
      ]
     },
     "metadata": {},
     "output_type": "display_data"
    }
   ],
   "source": [
    "m = gis.map()\n",
    "m"
   ]
  },
  {
   "cell_type": "code",
   "execution_count": null,
   "metadata": {},
   "outputs": [],
   "source": [
    "#m.draw(sdf)"
   ]
  },
  {
   "cell_type": "code",
   "execution_count": 33,
   "metadata": {},
   "outputs": [
    {
     "data": {
      "text/html": [
       "<div>\n",
       "<style scoped>\n",
       "    .dataframe tbody tr th:only-of-type {\n",
       "        vertical-align: middle;\n",
       "    }\n",
       "\n",
       "    .dataframe tbody tr th {\n",
       "        vertical-align: top;\n",
       "    }\n",
       "\n",
       "    .dataframe thead th {\n",
       "        text-align: right;\n",
       "    }\n",
       "</style>\n",
       "<table border=\"1\" class=\"dataframe\">\n",
       "  <thead>\n",
       "    <tr style=\"text-align: right;\">\n",
       "      <th></th>\n",
       "      <th>OBJECTID</th>\n",
       "      <th>NAME</th>\n",
       "      <th>STATE_NAME</th>\n",
       "      <th>FIPS</th>\n",
       "      <th>POPULATION</th>\n",
       "      <th>POP_SQMI</th>\n",
       "      <th>SHAPE</th>\n",
       "    </tr>\n",
       "  </thead>\n",
       "  <tbody>\n",
       "    <tr>\n",
       "      <td>0</td>\n",
       "      <td>12</td>\n",
       "      <td>Lawrence</td>\n",
       "      <td>Pennsylvania</td>\n",
       "      <td>42073</td>\n",
       "      <td>88918</td>\n",
       "      <td>245.1</td>\n",
       "      <td>{'rings': [[[-8933739.0041, 4990836.527599998]...</td>\n",
       "    </tr>\n",
       "    <tr>\n",
       "      <td>1</td>\n",
       "      <td>13</td>\n",
       "      <td>Mercer</td>\n",
       "      <td>Pennsylvania</td>\n",
       "      <td>42085</td>\n",
       "      <td>114998</td>\n",
       "      <td>168.5</td>\n",
       "      <td>{'rings': [[[-8963358.3492, 5084740.8972999975...</td>\n",
       "    </tr>\n",
       "    <tr>\n",
       "      <td>2</td>\n",
       "      <td>14</td>\n",
       "      <td>Crawford</td>\n",
       "      <td>Pennsylvania</td>\n",
       "      <td>42039</td>\n",
       "      <td>87397</td>\n",
       "      <td>84.2</td>\n",
       "      <td>{'rings': [[[-8866832.1044, 5103814.870300002]...</td>\n",
       "    </tr>\n",
       "    <tr>\n",
       "      <td>3</td>\n",
       "      <td>15</td>\n",
       "      <td>Erie</td>\n",
       "      <td>Pennsylvania</td>\n",
       "      <td>42049</td>\n",
       "      <td>279798</td>\n",
       "      <td>348.2</td>\n",
       "      <td>{'rings': [[[-8879059.5476, 5201406.841499999]...</td>\n",
       "    </tr>\n",
       "    <tr>\n",
       "      <td>4</td>\n",
       "      <td>20</td>\n",
       "      <td>Venango</td>\n",
       "      <td>Pennsylvania</td>\n",
       "      <td>42121</td>\n",
       "      <td>53305</td>\n",
       "      <td>78.0</td>\n",
       "      <td>{'rings': [[[-8901483.6406, 5037704.875100002]...</td>\n",
       "    </tr>\n",
       "  </tbody>\n",
       "</table>\n",
       "</div>"
      ],
      "text/plain": [
       "   OBJECTID  ...                                              SHAPE\n",
       "0        12  ...  {'rings': [[[-8933739.0041, 4990836.527599998]...\n",
       "1        13  ...  {'rings': [[[-8963358.3492, 5084740.8972999975...\n",
       "2        14  ...  {'rings': [[[-8866832.1044, 5103814.870300002]...\n",
       "3        15  ...  {'rings': [[[-8879059.5476, 5201406.841499999]...\n",
       "4        20  ...  {'rings': [[[-8901483.6406, 5037704.875100002]...\n",
       "\n",
       "[5 rows x 7 columns]"
      ]
     },
     "execution_count": 33,
     "metadata": {},
     "output_type": "execute_result"
    }
   ],
   "source": [
    "sdf.head()"
   ]
  },
  {
   "cell_type": "code",
   "execution_count": 63,
   "metadata": {},
   "outputs": [
    {
     "data": {
      "text/html": [
       "<div>\n",
       "<style scoped>\n",
       "    .dataframe tbody tr th:only-of-type {\n",
       "        vertical-align: middle;\n",
       "    }\n",
       "\n",
       "    .dataframe tbody tr th {\n",
       "        vertical-align: top;\n",
       "    }\n",
       "\n",
       "    .dataframe thead th {\n",
       "        text-align: right;\n",
       "    }\n",
       "</style>\n",
       "<table border=\"1\" class=\"dataframe\">\n",
       "  <thead>\n",
       "    <tr style=\"text-align: right;\">\n",
       "      <th>Season</th>\n",
       "      <th>level_0</th>\n",
       "      <th>index</th>\n",
       "      <th>fips</th>\n",
       "      <th>fall</th>\n",
       "      <th>winter</th>\n",
       "    </tr>\n",
       "  </thead>\n",
       "  <tbody>\n",
       "    <tr>\n",
       "      <td>0</td>\n",
       "      <td>0</td>\n",
       "      <td>0</td>\n",
       "      <td>10001</td>\n",
       "      <td>243.010410</td>\n",
       "      <td>214.996042</td>\n",
       "    </tr>\n",
       "    <tr>\n",
       "      <td>1</td>\n",
       "      <td>1</td>\n",
       "      <td>1</td>\n",
       "      <td>10003</td>\n",
       "      <td>211.767532</td>\n",
       "      <td>175.732937</td>\n",
       "    </tr>\n",
       "    <tr>\n",
       "      <td>2</td>\n",
       "      <td>2</td>\n",
       "      <td>2</td>\n",
       "      <td>10005</td>\n",
       "      <td>184.974706</td>\n",
       "      <td>187.145427</td>\n",
       "    </tr>\n",
       "    <tr>\n",
       "      <td>3</td>\n",
       "      <td>3</td>\n",
       "      <td>3</td>\n",
       "      <td>1001</td>\n",
       "      <td>819.565829</td>\n",
       "      <td>497.220917</td>\n",
       "    </tr>\n",
       "    <tr>\n",
       "      <td>4</td>\n",
       "      <td>4</td>\n",
       "      <td>4</td>\n",
       "      <td>1003</td>\n",
       "      <td>568.394073</td>\n",
       "      <td>570.515597</td>\n",
       "    </tr>\n",
       "  </tbody>\n",
       "</table>\n",
       "</div>"
      ],
      "text/plain": [
       "Season  level_0  index   fips        fall      winter\n",
       "0             0      0  10001  243.010410  214.996042\n",
       "1             1      1  10003  211.767532  175.732937\n",
       "2             2      2  10005  184.974706  187.145427\n",
       "3             3      3   1001  819.565829  497.220917\n",
       "4             4      4   1003  568.394073  570.515597"
      ]
     },
     "execution_count": 63,
     "metadata": {},
     "output_type": "execute_result"
    }
   ],
   "source": [
    "table2.head()"
   ]
  },
  {
   "cell_type": "code",
   "execution_count": 71,
   "metadata": {},
   "outputs": [
    {
     "name": "stdout",
     "output_type": "stream",
     "text": [
      "Season\n",
      "level_0      int64\n",
      "index        int64\n",
      "fips        object\n",
      "fall       float64\n",
      "winter     float64\n",
      "dtype: object\n",
      "OBJECTID         int64\n",
      "NAME            object\n",
      "STATE_NAME      object\n",
      "FIPS            object\n",
      "POPULATION       int64\n",
      "POP_SQMI       float64\n",
      "SHAPE         geometry\n",
      "dtype: object\n"
     ]
    }
   ],
   "source": [
    "print(table2.dtypes)\n",
    "print(sdf.dtypes)"
   ]
  },
  {
   "cell_type": "code",
   "execution_count": 77,
   "metadata": {},
   "outputs": [
    {
     "data": {
      "text/plain": [
       "614"
      ]
     },
     "execution_count": 77,
     "metadata": {},
     "output_type": "execute_result"
    }
   ],
   "source": [
    "len(sdf)"
   ]
  },
  {
   "cell_type": "code",
   "execution_count": 75,
   "metadata": {},
   "outputs": [
    {
     "data": {
      "text/plain": [
       "'SHAPE'"
      ]
     },
     "execution_count": 75,
     "metadata": {},
     "output_type": "execute_result"
    }
   ],
   "source": []
  },
  {
   "cell_type": "code",
   "execution_count": null,
   "metadata": {},
   "outputs": [],
   "source": []
  }
 ],
 "metadata": {
  "kernelspec": {
   "display_name": "ArcGISPro",
   "language": "Python",
   "name": "python3"
  },
  "language_info": {
   "file_extension": ".py",
   "name": "python",
   "version": "3"
  }
 },
 "nbformat": 4,
 "nbformat_minor": 2
}
