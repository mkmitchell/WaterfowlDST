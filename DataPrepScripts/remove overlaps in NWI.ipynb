{
 "cells": [
  {
   "cell_type": "code",
   "execution_count": 20,
   "metadata": {},
   "outputs": [],
   "source": [
    "# import modules\n",
    "import arcpy, os\n",
    "from arcpy import env\n",
    "\n",
    "env.overwriteOutput = True\n",
    "\n",
    "# Set workspace environment\n",
    "env.workspace = r\"C:\\Users\\jskillman\\Ducks Unlimited Incorporated\\GIS Department - ABDU DST and more!\\GIS\\Projected_Data\\BlackDuck_Model_Copy1.gdb\""
   ]
  },
  {
   "cell_type": "code",
   "execution_count": 21,
   "metadata": {},
   "outputs": [
    {
     "name": "stdout",
     "output_type": "stream",
     "text": [
      "['AL_Wetlands_clipped', 'AR_Wetlands_clipped', 'IA_Historic_Wetlands_clipped', 'IL_Historic_Wetlands_clipped', 'IL_Wetlands_clipped', 'IN_Historic_Wetlands_clipped', 'IN_Wetlands_clipped', 'KS_Wetlands_clipped', 'MI_Historic_Wetlands_clipped', 'MI_Wetlands_clipped', 'MN_Historic_Wetlands_clipped', 'MN_Wetlands_clipped', 'MO_Historic_Wetlands_clipped', 'IA_Wetlands_clipped', 'MO_Wetlands_clipped', 'NE_Historic_Wetlands_clipped', 'NE_Wetlands_clipped', 'NY_Wetlands_clipped', 'OH_Historic_Wetlands_clipped', 'OH_Wetlands_clipped', 'OK_Wetlands_clipped', 'PA_Wetlands_clipped', 'TN_Wetlands_clipped', 'WI_Historic_Wetlands_clipped', 'WI_Wetlands_clipped', 'CT_Wetlands_clipped', 'DC_Wetlands_clipped', 'DE_Wetlands_clipped', 'FL_Historic_Wetlands_clipped', 'FL_Wetlands_clipped', 'GA_Historic_Wetlands_clipped', 'GA_Wetlands_clipped', 'KY_Historic_Wetlands_clipped', 'KY_Wetlands_clipped', 'MA_Wetlands_clipped', 'MD_Wetlands_clipped', 'ME_Wetlands_clipped', 'NC_Historic_Wetlands_clipped', 'NC_Wetlands_clipped', 'NH_Wetlands_clipped', 'NJ_Wetlands_clipped', 'RI_Wetlands_clipped', 'SC_Historic_Wetlands_clipped', 'SC_Wetlands_clipped', 'VA_Wetlands_clipped', 'VT_Wetlands_clipped']\n"
     ]
    }
   ],
   "source": [
    "env.workspace = r\"C:\\Users\\jskillman\\Ducks Unlimited Incorporated\\GIS Department - ABDU DST and more!\\GIS\\Projected_Data\\Wetlands_clipped_to_JV.gdb\"\n",
    "fcList = arcpy.ListFeatureClasses(\"*_Wetlands_clipped\")\n",
    "print(fcList)"
   ]
  },
  {
   "cell_type": "code",
   "execution_count": null,
   "metadata": {},
   "outputs": [],
   "source": [
    "# Dissolve wetlands to make next steps more efficient.\n",
    "for fc in fcList:\n",
    "    outFc = \"{}_diss\".format(fc)\n",
    "    arcpy.Dissolve_management(fc, os.path.join(env.workspace, outFc), ['ATTRIBUTE', 'WETLAND_TYPE'])"
   ]
  },
  {
   "cell_type": "code",
   "execution_count": null,
   "metadata": {},
   "outputs": [],
   "source": [
    "# Union of all states.\n",
    "fcsDissolved = arcpy.ListFeatureClasses(\"*_Wetlands_clipped_diss\")\n",
    "print(fcsDissolved)"
   ]
  },
  {
   "cell_type": "code",
   "execution_count": null,
   "metadata": {},
   "outputs": [],
   "source": [
    "arcpy.ListFeatureClasses()"
   ]
  },
  {
   "cell_type": "code",
   "execution_count": 8,
   "metadata": {},
   "outputs": [],
   "source": [
    "\""
   ]
  },
  {
   "cell_type": "code",
   "execution_count": 7,
   "metadata": {},
   "outputs": [
    {
     "name": "stdout",
     "output_type": "stream",
     "text": [
      "['OBJECTID', 'Shape', 'ATTRIBUTE', 'WETLAND_TYPE', 'ACRES', 'Shape_Length', 'Shape_Area', 'wetlandType']\n"
     ]
    }
   ],
   "source": []
  },
  {
   "cell_type": "code",
   "execution_count": 11,
   "metadata": {},
   "outputs": [
    {
     "name": "stdout",
     "output_type": "stream",
     "text": [
      "Number of records to start: 14489575\n"
     ]
    }
   ],
   "source": []
  },
  {
   "cell_type": "code",
   "execution_count": null,
   "metadata": {},
   "outputs": [],
   "source": []
  },
  {
   "cell_type": "code",
   "execution_count": null,
   "metadata": {},
   "outputs": [],
   "source": []
  }
 ],
 "metadata": {
  "kernelspec": {
   "display_name": "Python 3",
   "language": "python",
   "name": "python3"
  },
  "language_info": {
   "codemirror_mode": {
    "name": "ipython",
    "version": 3
   },
   "file_extension": ".py",
   "mimetype": "text/x-python",
   "name": "python",
   "nbconvert_exporter": "python",
   "pygments_lexer": "ipython3",
   "version": "3.6.8"
  }
 },
 "nbformat": 4,
 "nbformat_minor": 2
}
