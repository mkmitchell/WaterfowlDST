{
 "cells": [
  {
   "cell_type": "code",
   "execution_count": 1,
   "metadata": {},
   "outputs": [],
   "source": [
    "# import modules\n",
    "import arcpy, os\n",
    "from arcpy import env\n",
    "\n",
    "env.overwriteOutput = True\n",
    "\n",
    "# Set workspace environment\n",
    "env.workspace = r\"C:\\Users\\jskillman\\Ducks Unlimited Incorporated\\GIS Department - ABDU DST and more!\\GIS\\Projected_Data\\BlackDuck_Model_Copy1.gdb\""
   ]
  },
  {
   "cell_type": "code",
   "execution_count": 21,
   "metadata": {},
   "outputs": [
    {
     "name": "stdout",
     "output_type": "stream",
     "text": [
      "['AL_Wetlands_clipped', 'AR_Wetlands_clipped', 'IA_Historic_Wetlands_clipped', 'IL_Historic_Wetlands_clipped', 'IL_Wetlands_clipped', 'IN_Historic_Wetlands_clipped', 'IN_Wetlands_clipped', 'KS_Wetlands_clipped', 'MI_Historic_Wetlands_clipped', 'MI_Wetlands_clipped', 'MN_Historic_Wetlands_clipped', 'MN_Wetlands_clipped', 'MO_Historic_Wetlands_clipped', 'IA_Wetlands_clipped', 'MO_Wetlands_clipped', 'NE_Historic_Wetlands_clipped', 'NE_Wetlands_clipped', 'NY_Wetlands_clipped', 'OH_Historic_Wetlands_clipped', 'OH_Wetlands_clipped', 'OK_Wetlands_clipped', 'PA_Wetlands_clipped', 'TN_Wetlands_clipped', 'WI_Historic_Wetlands_clipped', 'WI_Wetlands_clipped', 'CT_Wetlands_clipped', 'DC_Wetlands_clipped', 'DE_Wetlands_clipped', 'FL_Historic_Wetlands_clipped', 'FL_Wetlands_clipped', 'GA_Historic_Wetlands_clipped', 'GA_Wetlands_clipped', 'KY_Historic_Wetlands_clipped', 'KY_Wetlands_clipped', 'MA_Wetlands_clipped', 'MD_Wetlands_clipped', 'ME_Wetlands_clipped', 'NC_Historic_Wetlands_clipped', 'NC_Wetlands_clipped', 'NH_Wetlands_clipped', 'NJ_Wetlands_clipped', 'RI_Wetlands_clipped', 'SC_Historic_Wetlands_clipped', 'SC_Wetlands_clipped', 'VA_Wetlands_clipped', 'VT_Wetlands_clipped']\n"
     ]
    }
   ],
   "source": [
    "env.workspace = r\"C:\\Users\\jskillman\\Ducks Unlimited Incorporated\\GIS Department - ABDU DST and more!\\GIS\\Projected_Data\\Wetlands_clipped_to_JV.gdb\"\n",
    "fcList = arcpy.ListFeatureClasses(\"*_Wetlands_clipped\")\n",
    "print(fcList)"
   ]
  },
  {
   "cell_type": "code",
   "execution_count": null,
   "metadata": {},
   "outputs": [],
   "source": [
    "# Dissolve wetlands to make next steps more efficient.\n",
    "for fc in fcList:\n",
    "    outFc = \"{}_diss\".format(fc)\n",
    "    arcpy.Dissolve_management(fc, os.path.join(env.workspace, outFc), ['ATTRIBUTE', 'WETLAND_TYPE'])"
   ]
  },
  {
   "cell_type": "code",
   "execution_count": 3,
   "metadata": {},
   "outputs": [
    {
     "name": "stdout",
     "output_type": "stream",
     "text": [
      "['AL_Wetlands_clipped_diss', 'AR_Wetlands_clipped_diss', 'IL_Wetlands_clipped_diss', 'IN_Wetlands_clipped_diss', 'KS_Wetlands_clipped_diss', 'MI_Wetlands_clipped_diss', 'MN_Wetlands_clipped_diss', 'IA_Wetlands_clipped_diss', 'MO_Wetlands_clipped_diss', 'NE_Wetlands_clipped_diss', 'NY_Wetlands_clipped_diss', 'OH_Wetlands_clipped_diss', 'OK_Wetlands_clipped_diss', 'PA_Wetlands_clipped_diss', 'TN_Wetlands_clipped_diss', 'WI_Wetlands_clipped_diss', 'CT_Wetlands_clipped_diss', 'DC_Wetlands_clipped_diss', 'DE_Wetlands_clipped_diss', 'FL_Wetlands_clipped_diss', 'GA_Wetlands_clipped_diss', 'KY_Wetlands_clipped_diss', 'MA_Wetlands_clipped_diss', 'MD_Wetlands_clipped_diss', 'ME_Wetlands_clipped_diss', 'NC_Wetlands_clipped_diss', 'NH_Wetlands_clipped_diss', 'NJ_Wetlands_clipped_diss', 'RI_Wetlands_clipped_diss', 'SC_Wetlands_clipped_diss', 'VA_Wetlands_clipped_diss', 'VT_Wetlands_clipped_diss']\n"
     ]
    }
   ],
   "source": [
    "env.workspace = r\"C:\\Users\\jskillman\\Ducks Unlimited Incorporated\\GIS Department - ABDU DST and more!\\GIS\\Projected_Data\\Wetlands_clipped_to_JV.gdb\"\n",
    "\n",
    "fcsDissolved = arcpy.ListFeatureClasses(\"*_Wetlands_clipped_diss\")\n",
    "print(fcsDissolved)"
   ]
  },
  {
   "cell_type": "code",
   "execution_count": null,
   "metadata": {},
   "outputs": [],
   "source": [
    "# repair geometry\n",
    "for fc in fcsDissolved:\n",
    "    arcpy.RepairGeometry_management(fc)\n",
    "    print(\"{} repaired.\".format(fc))"
   ]
  },
  {
   "cell_type": "code",
   "execution_count": null,
   "metadata": {},
   "outputs": [],
   "source": [
    "target = r'C:\\Users\\jskillman\\Ducks Unlimited Incorporated\\GIS Department - ABDU DST and more!\\GIS\\Projected_Data\\Wetlands_Clipped.gdb\\Wetlands_merged'\n",
    "\n",
    "for fc in fcsDissolved:\n",
    "    arcpy.Append_management(fc, target, \"NO_TEST\")\n",
    "    print(\"Appended {}\".format(fc))"
   ]
  },
  {
   "cell_type": "code",
   "execution_count": null,
   "metadata": {},
   "outputs": [],
   "source": [
    "outFc = r'C:\\Users\\jskillman\\Ducks Unlimited Incorporated\\GIS Department - ABDU DST and more!\\GIS\\Projected_Data\\Wetlands_Clipped.gdb\\Wetlands_merged_dissolved'\n",
    "dissolveFields = [\"ATTRIBUTE\", \"WETLAND_TYPE\"]\n",
    "arcpy.PairwiseDissolve_analysis(target, outFc, dissolveFields)"
   ]
  },
  {
   "cell_type": "code",
   "execution_count": null,
   "metadata": {},
   "outputs": [],
   "source": []
  },
  {
   "cell_type": "code",
   "execution_count": null,
   "metadata": {},
   "outputs": [],
   "source": []
  },
  {
   "cell_type": "code",
   "execution_count": null,
   "metadata": {},
   "outputs": [],
   "source": []
  }
 ],
 "metadata": {
  "kernelspec": {
   "display_name": "Python 3",
   "language": "python",
   "name": "python3"
  },
  "language_info": {
   "codemirror_mode": {
    "name": "ipython",
    "version": 3
   },
   "file_extension": ".py",
   "mimetype": "text/x-python",
   "name": "python",
   "nbconvert_exporter": "python",
   "pygments_lexer": "ipython3",
   "version": "3.6.8"
  }
 },
 "nbformat": 4,
 "nbformat_minor": 2
}
