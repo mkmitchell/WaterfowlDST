{
 "cells": [
  {
   "cell_type": "code",
   "execution_count": 5,
   "id": "35cb5ff4",
   "metadata": {},
   "outputs": [],
   "source": [
    "from matplotlib import pyplot as plt\n",
    "import geopandas as gpd\n",
    "from shapely.geometry import Polygon"
   ]
  },
  {
   "cell_type": "code",
   "execution_count": 15,
   "id": "c5b26f04",
   "metadata": {},
   "outputs": [],
   "source": [
    "polys1 = geopandas.GeoSeries([Polygon([(0,0), (2,0), (2,2), (0,2)])])\n",
    "\n",
    "polys2 = geopandas.GeoSeries([Polygon([(3,3), (5,3), (5,5), (3,5)])])\n",
    "\n",
    "df1 = geopandas.GeoDataFrame({'geometry': polys1, 'df1':[1]})\n",
    "df2 = geopandas.GeoDataFrame({'geometry': polys2, 'df2':[1]})"
   ]
  },
  {
   "cell_type": "code",
   "execution_count": 16,
   "id": "2db93776",
   "metadata": {},
   "outputs": [
    {
     "data": {
      "text/plain": [
       "<AxesSubplot:>"
      ]
     },
     "execution_count": 16,
     "metadata": {},
     "output_type": "execute_result"
    },
    {
     "data": {
      "image/png": "[encoded data removed]",
      "text/plain": [
       "<Figure size 432x288 with 1 Axes>"
      ]
     },
     "metadata": {
      "needs_background": "light"
     },
     "output_type": "display_data"
    }
   ],
   "source": [
    "res_union = gpd.overlay(df1, df2, how='union')\n",
    "res_union.plot()"
   ]
  },
  {
   "cell_type": "code",
   "execution_count": 23,
   "id": "8cc31ded",
   "metadata": {},
   "outputs": [
    {
     "data": {
      "text/plain": [
       "<AxesSubplot:>"
      ]
     },
     "execution_count": 23,
     "metadata": {},
     "output_type": "execute_result"
    },
    {
     "data": {
      "image/png": "[encoded data removed]",
      "text/plain": [
       "<Figure size 432x288 with 1 Axes>"
      ]
     },
     "metadata": {
      "needs_background": "light"
     },
     "output_type": "display_data"
    }
   ],
   "source": [
    "res_difference = df1.difference(df2).append(df2.geometry)\n",
    "res_difference.plot()"
   ]
  },
  {
   "cell_type": "code",
   "execution_count": 27,
   "id": "f4026241",
   "metadata": {},
   "outputs": [
    {
     "name": "stdout",
     "output_type": "stream",
     "text": [
      "None\n"
     ]
    }
   ],
   "source": [
    "print(res_union.crs)\n",
    "res_union['CalcHA'] = res_union.area"
   ]
  },
  {
   "cell_type": "code",
   "execution_count": 26,
   "id": "aa96ee09",
   "metadata": {},
   "outputs": [],
   "source": [
    "res_union.crs"
   ]
  },
  {
   "cell_type": "code",
   "execution_count": null,
   "id": "576f7f6e",
   "metadata": {},
   "outputs": [],
   "source": []
  }
 ],
 "metadata": {
  "kernelspec": {
   "display_name": "Python 3",
   "language": "python",
   "name": "python3"
  },
  "language_info": {
   "codemirror_mode": {
    "name": "ipython",
    "version": 3
   },
   "file_extension": ".py",
   "mimetype": "text/x-python",
   "name": "python",
   "nbconvert_exporter": "python",
   "pygments_lexer": "ipython3",
   "version": "3.7.9"
  }
 },
 "nbformat": 4,
 "nbformat_minor": 5
}
