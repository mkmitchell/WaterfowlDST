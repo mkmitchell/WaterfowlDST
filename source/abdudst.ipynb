{
 "cells": [
  {
   "cell_type": "code",
   "execution_count": 1,
   "metadata": {},
   "outputs": [
    {
     "data": {
      "text/plain": [
       "'\\nThis software will model multiple waterfowl species and habitat energy availability to determine deficit and surplus at the HUC12 scale.\\n'"
      ]
     },
     "execution_count": 1,
     "metadata": {},
     "output_type": "execute_result"
    }
   ],
   "source": [
    "'''\n",
    "This software will model multiple waterfowl species and habitat energy availability to determine deficit and surplus at the HUC12 scale.\n",
    "'''"
   ]
  },
  {
   "cell_type": "code",
   "execution_count": 2,
   "metadata": {},
   "outputs": [],
   "source": [
    "import arcgis"
   ]
  },
  {
   "cell_type": "code",
   "execution_count": 3,
   "metadata": {},
   "outputs": [],
   "source": [
    "class DST(object):\n",
    "    '''\n",
    "    This class represents the decision support tool used to model energy.\n",
    "    '''\n",
    "    \n",
    "    def __init__(self, aoi):\n",
    "        \"\"\"\n",
    "        Creates the variables associated with this decision support tool class.\n",
    "        \n",
    "        :type aoi: string\n",
    "        :param aoi: the name of the area of interst\n",
    "        \"\"\""
   ]
  },
  {
   "cell_type": "code",
   "execution_count": null,
   "metadata": {},
   "outputs": [],
   "source": []
  }
 ],
 "metadata": {
  "kernelspec": {
   "display_name": "Python 3",
   "language": "python",
   "name": "python3"
  },
  "language_info": {
   "codemirror_mode": {
    "name": "ipython",
    "version": 3
   },
   "file_extension": ".py",
   "mimetype": "text/x-python",
   "name": "python",
   "nbconvert_exporter": "python",
   "pygments_lexer": "ipython3",
   "version": "3.6.8"
  }
 },
 "nbformat": 4,
 "nbformat_minor": 2
}
